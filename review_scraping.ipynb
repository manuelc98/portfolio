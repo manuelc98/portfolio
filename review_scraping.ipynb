{
 "cells": [
  {
   "cell_type": "code",
   "execution_count": 1,
   "id": "cf002c91-0d69-45eb-bf2b-26e48899c129",
   "metadata": {},
   "outputs": [],
   "source": [
    "from datetime import datetime, timedelta\n",
    "\n",
    "import pandas as pd\n",
    "\n",
    "import math \n",
    "\n",
    "from selenium import webdriver\n",
    "from selenium.webdriver.chrome.service import Service\n",
    "\n",
    "from selenium.webdriver.common.by import By\n",
    "from selenium.webdriver.support.ui import WebDriverWait\n",
    "from selenium.webdriver.support import expected_conditions as ec\n",
    "\n",
    "import time\n",
    "\n",
    "import nltk\n",
    "from nltk.tokenize import word_tokenize\n",
    "#nltk.download('punkt')\n",
    "from nltk.probability import FreqDist\n",
    "from nltk.corpus import stopwords\n",
    "from nltk.tokenize import RegexpTokenizer #Tokenizer that takes only alphanumerical characters (no punctuation)\n",
    "from nltk.util import ngrams\n",
    "\n",
    "from bs4 import BeautifulSoup\n",
    "import requests"
   ]
  },
  {
   "cell_type": "code",
   "execution_count": 100,
   "id": "ca0d6776-6db6-437b-bdd8-eeddf51ae539",
   "metadata": {},
   "outputs": [],
   "source": [
    "def take_french_review(review_text_object):\n",
    "    \"\"\"Takes a text review object as input\n",
    "    Returns the French version of the review only\"\"\"\n",
    "    if review_text_object[:8] == \"(Traduit\":\n",
    "        return review_text_object.replace(\"(Traduit par Google) \", \"\").replace(\"\\xa0\", \"\").split(\"(Avis d'origine)\")[0]\n",
    "    else:\n",
    "        return review_text_object.replace(\"(Traduit par Google) \", \"\").replace(\"\\xa0\", \"\")\n",
    "    \n",
    "    \n",
    "def find_nb_scroll(N):\n",
    "    \"\"\"Takes N an int, number of reviews that was left\n",
    "    Returns number of scrolls needed to load all reviews\"\"\"\n",
    "    if N%10 == 0:\n",
    "        return int(N/10 - 1)\n",
    "    else:\n",
    "        return math.floor(N/10)\n",
    "    \n",
    "    \n",
    "def get_review_summary(result_set):\n",
    "    \"\"\"Input: Text object, raw output of HTML data of the page\n",
    "    Output: Pandas dataframe with one line per review with rate, time and comment\"\"\"\n",
    "    rev_dict = {\n",
    "        'Review Rate': [],\n",
    "        'Review Time Amount' : [],\n",
    "        'Review Time Period' : [],\n",
    "        'Review Text' : []\n",
    "                }\n",
    "    for result in result_set:\n",
    "        try:\n",
    "            review_rate = int(result.find('span', class_='Fam1ne EBe2gf')[\"aria-label\"][7])\n",
    "        except:\n",
    "            review_rate = \"\"\n",
    "        try:\n",
    "            review_time_amount = int(result.find('span',class_='dehysf lTi8oc').text[7:].replace('\\xa0', ' ').replace('une', '1').replace('un', '1').split()[0])\n",
    "        except:\n",
    "            review_time_amount = \"\"\n",
    "        try:\n",
    "            review_time_period = result.find('span',class_='dehysf lTi8oc').text[7:].replace('\\xa0', ' ').replace('une', '1').split()[1]\n",
    "        except:\n",
    "            review_time_period = \"\"\n",
    "        try:\n",
    "            review_text = result.find('span',class_='review-full-text').text\n",
    "            review_text = take_french_review(review_text)\n",
    "        except:\n",
    "            review_text = \"\"\n",
    "        rev_dict['Review Rate'].append(review_rate)\n",
    "        rev_dict['Review Time Amount'].append(review_time_amount)\n",
    "        rev_dict['Review Time Period'].append(review_time_period)\n",
    "        rev_dict['Review Text'].append(review_text)\n",
    "    return(pd.DataFrame(rev_dict))"
   ]
  },
  {
   "cell_type": "code",
   "execution_count": null,
   "id": "f6b2c1c4-8917-4f14-99eb-192a9310c5a9",
   "metadata": {},
   "outputs": [],
   "source": [
    "# Parameters\n",
    "\n",
    "url = 'https://www.google.com/search?q=tucana+madrid&rlz=1C5CHFA_enFR941FR941&oq=tucana&aqs=chrome.0.0i355i512j46i175i199i512j69i57j0i512l5j46i512j0i512.1709j0j7&sourceid=chrome&ie=UTF-8#lrd=0xd4229cd32d0921f:0x737ebabee9e57197,1,,,'\n"
   ]
  },
  {
   "cell_type": "code",
   "execution_count": 127,
   "id": "8d8eacc6-146a-4d32-bcd2-4dd0e041789c",
   "metadata": {},
   "outputs": [],
   "source": [
    "path = '/Users/manuel/Documents/GitHub/portfolio/Reviews project/chromedriver'\n",
    "driver = webdriver.Chrome(service=Service(path))\n",
    "\n",
    "\n",
    "driver.get(url)\n",
    "driver.find_element(By.XPATH,'/html/body/div[3]/div[3]/span/div/div/div/div[3]/div[1]/button[1]').click()\n",
    "time.sleep(12)\n",
    "\n",
    "nb_reviews = driver.find_element(By.XPATH, '/html/body/span[2]/g-lightbox/div/div[2]/div[3]/span/div/div/div/div[1]/div[3]/div[1]/div/span/span').text\n",
    "nb_reviews = int(nb_reviews.split(\" \")[0])\n",
    "\n",
    "scrollable_div = driver.find_element(By.XPATH,'/html/body/span[2]/g-lightbox/div/div[2]/div[3]/span/div/div/div/div[2]')\n",
    "    \n",
    "for i in range(find_nb_scroll(nb_reviews)):\n",
    "        driver.execute_script('arguments[0].scrollTop = arguments[0].scrollHeight', \n",
    "                scrollable_div)\n",
    "        time.sleep(3)\n",
    "        \n",
    "response = BeautifulSoup(driver.page_source, 'html.parser')\n",
    "\n",
    "reviews = response.find_all('div', class_ = 'WMbnJf vY6njf gws-localreviews__google-review')\n",
    "\n",
    "review_summary = get_review_summary(reviews)\n",
    "review_summary.head()"
   ]
  },
  {
   "cell_type": "code",
   "execution_count": 187,
   "id": "9e4a13cd-f2d8-49d7-b1a2-433619bbc711",
   "metadata": {},
   "outputs": [
    {
     "data": {
      "text/plain": [
       "121"
      ]
     },
     "execution_count": 187,
     "metadata": {},
     "output_type": "execute_result"
    }
   ],
   "source": [
    "len(review_summary)"
   ]
  },
  {
   "cell_type": "code",
   "execution_count": 188,
   "id": "d886c749-b656-4092-aab3-f5ceebe70fc8",
   "metadata": {},
   "outputs": [
    {
     "data": {
      "text/html": [
       "<div>\n",
       "<style scoped>\n",
       "    .dataframe tbody tr th:only-of-type {\n",
       "        vertical-align: middle;\n",
       "    }\n",
       "\n",
       "    .dataframe tbody tr th {\n",
       "        vertical-align: top;\n",
       "    }\n",
       "\n",
       "    .dataframe thead th {\n",
       "        text-align: right;\n",
       "    }\n",
       "</style>\n",
       "<table border=\"1\" class=\"dataframe\">\n",
       "  <thead>\n",
       "    <tr style=\"text-align: right;\">\n",
       "      <th></th>\n",
       "      <th>Estimated Review Date</th>\n",
       "      <th>Review Rate</th>\n",
       "      <th>Review Text</th>\n",
       "    </tr>\n",
       "  </thead>\n",
       "  <tbody>\n",
       "    <tr>\n",
       "      <th>0</th>\n",
       "      <td>2022-05-26</td>\n",
       "      <td>5</td>\n",
       "      <td>Vraiment une bonne trouvaille.Très bonne ambia...</td>\n",
       "    </tr>\n",
       "    <tr>\n",
       "      <th>1</th>\n",
       "      <td>2022-10-16</td>\n",
       "      <td>4</td>\n",
       "      <td>Bon restaurant à Madrid, avec une cuisine fusi...</td>\n",
       "    </tr>\n",
       "    <tr>\n",
       "      <th>2</th>\n",
       "      <td>2022-07-25</td>\n",
       "      <td>4</td>\n",
       "      <td>Site recommandé. Je ne lui donne pas 5 étoiles...</td>\n",
       "    </tr>\n",
       "    <tr>\n",
       "      <th>3</th>\n",
       "      <td>2022-05-26</td>\n",
       "      <td>5</td>\n",
       "      <td>Excellent dîner, bel endroit, ambiance avec mu...</td>\n",
       "    </tr>\n",
       "    <tr>\n",
       "      <th>4</th>\n",
       "      <td>2022-10-02</td>\n",
       "      <td>3</td>\n",
       "      <td>La nourriture était très bonne, mais le servic...</td>\n",
       "    </tr>\n",
       "  </tbody>\n",
       "</table>\n",
       "</div>"
      ],
      "text/plain": [
       "  Estimated Review Date  Review Rate  \\\n",
       "0            2022-05-26            5   \n",
       "1            2022-10-16            4   \n",
       "2            2022-07-25            4   \n",
       "3            2022-05-26            5   \n",
       "4            2022-10-02            3   \n",
       "\n",
       "                                         Review Text  \n",
       "0  Vraiment une bonne trouvaille.Très bonne ambia...  \n",
       "1  Bon restaurant à Madrid, avec une cuisine fusi...  \n",
       "2  Site recommandé. Je ne lui donne pas 5 étoiles...  \n",
       "3  Excellent dîner, bel endroit, ambiance avec mu...  \n",
       "4  La nourriture était très bonne, mais le servic...  "
      ]
     },
     "execution_count": 188,
     "metadata": {},
     "output_type": "execute_result"
    }
   ],
   "source": [
    "review_summary['Review Time Period'] = review_summary['Review Time Period'].map({'semaine': 7, 'semaines': 7, 'mois': 30, 'jour': 1, 'jours':1, 'heures': 0, 'heure': 0, 'ans': 365, 'an': 365})\n",
    "review_summary['Estimated Review Date'] = review_summary['Review Time Amount'] * review_summary['Review Time Period']\n",
    "\n",
    "today = datetime.today().strftime('%Y-%m-%d')\n",
    "review_summary['Estimated Review Date'] = review_summary['Estimated Review Date'].apply(lambda x: pd.to_datetime(today) - timedelta(days=x))\n",
    "\n",
    "review_summary = review_summary[['Estimated Review Date', 'Review Rate', 'Review Text']]\n",
    "\n",
    "review_summary.head()"
   ]
  },
  {
   "cell_type": "code",
   "execution_count": 189,
   "id": "1f94da07-0470-41af-b44b-f9d5aadc5164",
   "metadata": {},
   "outputs": [
    {
     "data": {
      "text/plain": [
       "Estimated Review Date    0\n",
       "Review Rate              0\n",
       "Review Text              0\n",
       "dtype: int64"
      ]
     },
     "execution_count": 189,
     "metadata": {},
     "output_type": "execute_result"
    }
   ],
   "source": [
    "review_summary.isna().sum()"
   ]
  }
 ],
 "metadata": {
  "kernelspec": {
   "display_name": "Python 3 (ipykernel)",
   "language": "python",
   "name": "python3"
  },
  "language_info": {
   "codemirror_mode": {
    "name": "ipython",
    "version": 3
   },
   "file_extension": ".py",
   "mimetype": "text/x-python",
   "name": "python",
   "nbconvert_exporter": "python",
   "pygments_lexer": "ipython3",
   "version": "3.9.7"
  }
 },
 "nbformat": 4,
 "nbformat_minor": 5
}
