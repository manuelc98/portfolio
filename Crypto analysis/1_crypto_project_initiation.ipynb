{
 "cells": [
  {
   "cell_type": "markdown",
   "id": "3455f9a7-17d6-48d8-8ce1-fce884cfb265",
   "metadata": {},
   "source": [
    "# Blockchain analysis project"
   ]
  },
  {
   "cell_type": "markdown",
   "id": "1ff19740-9c3d-4d47-b807-8ac46bac23e3",
   "metadata": {},
   "source": [
    "## Aim of the project\n",
    "Blockchain projects using a crypto are flourishing today, it has become difficult to assess rapidly the quality of a new project. We will try to combine various factors to help us dig in a project such as : price, stock market cap, Twitter sentiment analysis, financial analysis, CoinGecko KPIs (Ratings, sentiment, n° of exchanges available)."
   ]
  },
  {
   "cell_type": "markdown",
   "id": "065e8b1e-e782-4b9f-b633-9129a3d8c6e2",
   "metadata": {},
   "source": [
    "## 1. Retrieve CoinGecko's data"
   ]
  },
  {
   "cell_type": "code",
   "execution_count": 1,
   "id": "c750f4aa-acdc-470d-b761-143ccee82cf2",
   "metadata": {},
   "outputs": [],
   "source": [
    "import pandas as pd\n",
    "from selenium import webdriver\n",
    "import tweepy"
   ]
  },
  {
   "cell_type": "code",
   "execution_count": 23,
   "id": "f313cd2f-2449-4796-8b32-c8e6874eeabb",
   "metadata": {},
   "outputs": [],
   "source": [
    "# Function to extract the number of likes in the sentence \"xxx personnes aiment ça\"\n",
    "# Input : string, extracted from Coingecko's website\n",
    "# Output : Number of likes (int)\n",
    "\n",
    "def extract_int_from_sentence(sentence):\n",
    "    numbers = [int(s) for s in sentence.split() if s.isdigit()]\n",
    "    figure_string = ''.join(map(str, numbers))\n",
    "    figure = int(figure_string)\n",
    "    return figure"
   ]
  },
  {
   "cell_type": "code",
   "execution_count": 33,
   "id": "4fef6f3e-6890-47b9-a3b8-5d995e065c52",
   "metadata": {},
   "outputs": [],
   "source": [
    "# Function to clean the price output of coingecko\n",
    "# Input : unformated price (string)\n",
    "# Output : price (int)\n",
    "\n",
    "def format_price(price_string):\n",
    "    price_string = price_string.replace(\"\\u202f\",\"\")\n",
    "    price_string = price_string.replace(\" $US\",\"\")\n",
    "    price_string = price_string.replace(\",\", \".\")\n",
    "    price = float(price_string)\n",
    "    return price"
   ]
  },
  {
   "cell_type": "code",
   "execution_count": 31,
   "id": "87fc35f8-2e94-41dd-aed2-e562aa4133a0",
   "metadata": {},
   "outputs": [],
   "source": [
    "# Function that returns coin gecko's data about a given coin\n",
    "# Input : full coin name (ex: bitcoin, ethereum...) (string)\n",
    "# Output : Number of favorites (int), current price in $ (float), \n",
    "\n",
    "def retrieve_coingecko_data(coin_name):\n",
    "    \n",
    "    driver = webdriver.Chrome('/Users/manuel/Documents/GitHub/chromedriver')\n",
    "    driver.get(f\"https://www.coingecko.com/fr/pi%C3%A8ces/{coin_name}#markets\")\n",
    "    driver.implicitly_wait(10)\n",
    "    \n",
    "    likes_string = driver.find_element_by_xpath('/html/body/div[4]/div[4]/div[1]/div/div[4]/div/div[4]/div/div[4]').text\n",
    "    nb_likes = extract_int_from_sentence(likes_string)\n",
    "    \n",
    "    price_string = driver.find_element_by_xpath('/html/body/div[4]/div[4]/div[1]/div/div[4]/div/div[1]/span[1]/span').text\n",
    "    price = format_price(price_string)\n",
    "    \n",
    "    daily_evolution_string = driver.find_element_by_xpath('/html/body/div[4]/div[4]/div[1]/div/div[4]/div/div[1]/span[2]/span').text\n",
    "    daily_evolution = round(float(daily_evolution_string.replace('%',''))/100,3)\n",
    "    \n",
    "    market_cap_string = driver.find_element_by_xpath('/html/body/div[4]/div[5]/div[1]/div/div[1]/div/div/div[2]/span[2]/span').text\n",
    "    market_cap = format_price(market_cap_string)\n",
    "    \n",
    "    daily_trading_string = driver.find_element_by_xpath('/html/body/div[4]/div[5]/div[1]/div/div[1]/div/div/div[3]/span[2]/span').text\n",
    "    daily_trading = format_price(daily_trading_string)\n",
    "    \n",
    "    \n",
    "    return ({\"nb_likes\":nb_likes,\n",
    "             \"price ($US)\":price,\n",
    "             \"24h evolution\":daily_evolution,\n",
    "             \"market cap\":market_cap,\n",
    "             \"daily trading volume\":daily_trading})"
   ]
  },
  {
   "cell_type": "code",
   "execution_count": 32,
   "id": "96210e51-7a22-4caa-9bb1-a9d88aab0278",
   "metadata": {},
   "outputs": [
    {
     "data": {
      "text/plain": [
       "{'nb_likes': 556740,\n",
       " 'price ($US)': 2626.0,\n",
       " '24h evolution': 0.041,\n",
       " 'market cap': 306878676055.0,\n",
       " 'daily trading volume': 23715372320.0}"
      ]
     },
     "execution_count": 32,
     "metadata": {},
     "output_type": "execute_result"
    }
   ],
   "source": [
    "retrieve_coingecko_data(\"ethereum\")"
   ]
  },
  {
   "cell_type": "markdown",
   "id": "fe8173c9-4978-4112-bbcd-c3ca20e318a0",
   "metadata": {},
   "source": [
    "# Twitter sentiment analysis"
   ]
  },
  {
   "cell_type": "code",
   "execution_count": 2,
   "id": "a5138023-305a-40c6-98f3-6694d65fab03",
   "metadata": {},
   "outputs": [],
   "source": [
    "consumer_key = \"7S41BVFwVu7wUhHV0csj41KK5\"\n",
    "consumer_secret = \"Vjsfv9ecbWrLQFo7X74kZZY2XRnhokfsajq1QcPq2uaSzYvdNT\"\n",
    "access_token = \"606608726-mImNVp0hfEt9MDo9c2S4zNBZU9lS1z4LqwkDT6oY\"\n",
    "access_token_secret = \"jR7c83KQVD3VwRtik7pV30ATaY6tzDyFgo11xD6zN30F4\"\n",
    "\n",
    "# authorization of consumer key and consumer secret \n",
    "auth = tweepy.OAuthHandler(consumer_key, consumer_secret) \n",
    "  \n",
    "# set access to user's access key and access secret  \n",
    "auth.set_access_token(access_token, access_token_secret) \n",
    "  \n",
    "# calling the api  \n",
    "api = tweepy.API(auth) "
   ]
  }
 ],
 "metadata": {
  "kernelspec": {
   "display_name": "Python 3",
   "language": "python",
   "name": "python3"
  },
  "language_info": {
   "codemirror_mode": {
    "name": "ipython",
    "version": 3
   },
   "file_extension": ".py",
   "mimetype": "text/x-python",
   "name": "python",
   "nbconvert_exporter": "python",
   "pygments_lexer": "ipython3",
   "version": "3.8.8"
  }
 },
 "nbformat": 4,
 "nbformat_minor": 5
}
