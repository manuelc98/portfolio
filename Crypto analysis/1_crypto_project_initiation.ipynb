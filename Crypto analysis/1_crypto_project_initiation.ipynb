{
 "cells": [
  {
   "cell_type": "markdown",
   "id": "3455f9a7-17d6-48d8-8ce1-fce884cfb265",
   "metadata": {},
   "source": [
    "# Crypto scrap"
   ]
  },
  {
   "cell_type": "markdown",
   "id": "1ff19740-9c3d-4d47-b807-8ac46bac23e3",
   "metadata": {},
   "source": [
    "## Aim of the project\n",
    "Get a quick overview of any coin important data (source : CoinGecko)"
   ]
  },
  {
   "cell_type": "markdown",
   "id": "065e8b1e-e782-4b9f-b633-9129a3d8c6e2",
   "metadata": {},
   "source": [
    "## 1. Retrieve CoinGecko's data"
   ]
  },
  {
   "cell_type": "code",
   "execution_count": 27,
   "id": "c750f4aa-acdc-470d-b761-143ccee82cf2",
   "metadata": {},
   "outputs": [],
   "source": [
    "import pandas as pd\n",
    "\n",
    "from datetime import datetime\n",
    "from selenium import webdriver\n",
    "\n",
    "from selenium.webdriver.common.by import By\n",
    "from selenium.webdriver.support.ui import WebDriverWait\n",
    "from selenium.webdriver.support import expected_conditions as ec\n",
    "from selenium.common.exceptions import NoSuchElementException "
   ]
  },
  {
   "cell_type": "code",
   "execution_count": 57,
   "id": "f313cd2f-2449-4796-8b32-c8e6874eeabb",
   "metadata": {},
   "outputs": [],
   "source": [
    "# Function to extract the % of good sentiment in the sentence scraped\n",
    "# Input : string\n",
    "# Output : int\n",
    "\n",
    "def extract_good_sentiment_pct(sentence):\n",
    "    res = []\n",
    "    for char in sentence:\n",
    "        if char.isdigit():\n",
    "            res.append(char)\n",
    "    n_char = ''\n",
    "    for i in range(len(res)):\n",
    "        n_char += res[i]\n",
    "    n = int(n_char)\n",
    "    return n/100"
   ]
  },
  {
   "cell_type": "code",
   "execution_count": 3,
   "id": "4fef6f3e-6890-47b9-a3b8-5d995e065c52",
   "metadata": {},
   "outputs": [],
   "source": [
    "# Function to clean the price output of coingecko\n",
    "# Input : unformated price (string)\n",
    "# Output : price (int)\n",
    "\n",
    "def format_price(price_string):\n",
    "    price_string = price_string.replace(\"\\u202f\",\"\")\n",
    "    price_string = price_string.replace(\" $US\",\"\")\n",
    "    price_string = price_string.replace(\",\", \".\")\n",
    "    price = float(price_string)\n",
    "    return price"
   ]
  },
  {
   "cell_type": "code",
   "execution_count": 4,
   "id": "132692d7-b9eb-473c-a7fa-446302f436ea",
   "metadata": {},
   "outputs": [],
   "source": [
    "def format_pct(pct_string):\n",
    "    return(round(float(pct_string.replace('%',''))/100,3))"
   ]
  },
  {
   "cell_type": "code",
   "execution_count": 45,
   "id": "e27e5cf7-1244-4338-b169-000714abf3b3",
   "metadata": {},
   "outputs": [],
   "source": [
    "def click_sentiment_button(driver, xpath):\n",
    "    try:\n",
    "        driver.execute_script(\"window.scrollTo(0,2000)\")\n",
    "        wait = WebDriverWait(driver, 5)\n",
    "        system = wait.until(ec.element_to_be_clickable((By.XPATH, xpath)))\n",
    "        system.click()\n",
    "    except:\n",
    "        pass"
   ]
  },
  {
   "cell_type": "code",
   "execution_count": 58,
   "id": "87fc35f8-2e94-41dd-aed2-e562aa4133a0",
   "metadata": {},
   "outputs": [],
   "source": [
    "# Function that returns coin gecko's data about a given coin\n",
    "# Input : full coin name (ex: bitcoin, ethereum...) (string)\n",
    "# Output : Number of favorites (int), current price in $ (float), \n",
    "\n",
    "def retrieve_coingecko_data(coin_name):\n",
    "    \n",
    "    driver = webdriver.Chrome('/Users/manuel/Documents/GitHub/chromedriver')\n",
    "    driver.get(f\"https://www.coingecko.com/fr/pi%C3%A8ces/{coin_name}\")\n",
    "    driver.implicitly_wait(10)\n",
    "    \n",
    "    price_string = driver.find_element_by_xpath('/html/body/div[4]/div[4]/div[1]/div/div[1]/div[4]/div/div[1]/span[1]/span').text\n",
    "    price = format_price(price_string)\n",
    "    \n",
    "    hourly_evolution_string = driver.find_element_by_xpath('/html/body/div[4]/div[6]/div/div[2]/div[1]/div/div[1]/div[1]/div[1]/div[2]/div[2]/div[2]/div[1]/span').text\n",
    "    hourly_evolution = format_pct(hourly_evolution_string)\n",
    "    \n",
    "    daily_evolution_string = driver.find_element_by_xpath('/html/body/div[4]/div[6]/div/div[2]/div[1]/div/div[1]/div[1]/div[1]/div[2]/div[2]/div[2]/div[2]/span').text\n",
    "    daily_evolution = format_pct(daily_evolution_string)\n",
    "    \n",
    "    weekly_evolution_string = driver.find_element_by_xpath('/html/body/div[4]/div[6]/div/div[2]/div[1]/div/div[1]/div[1]/div[1]/div[2]/div[2]/div[2]/div[3]/span').text\n",
    "    weekly_evolution = format_pct(weekly_evolution_string)\n",
    "    \n",
    "    bimonthly_evolution_string = driver.find_element_by_xpath('/html/body/div[4]/div[6]/div/div[2]/div[1]/div/div[1]/div[1]/div[1]/div[2]/div[2]/div[2]/div[4]/span').text\n",
    "    bimonthly_evolution = format_pct(bimonthly_evolution_string)\n",
    "    \n",
    "    monthly_evolution_string = driver.find_element_by_xpath('/html/body/div[4]/div[6]/div/div[2]/div[1]/div/div[1]/div[1]/div[1]/div[2]/div[2]/div[2]/div[5]/span').text\n",
    "    monthly_evolution = format_pct(monthly_evolution_string)\n",
    "    \n",
    "    yearly_evolution_string = driver.find_element_by_xpath('/html/body/div[4]/div[6]/div/div[2]/div[1]/div/div[1]/div[1]/div[1]/div[2]/div[2]/div[2]/div[6]/span').text\n",
    "    yearly_evolution = format_pct(yearly_evolution_string)\n",
    "    \n",
    "    market_cap_string = driver.find_element_by_xpath('/html/body/div[4]/div[4]/div[1]/div/div[2]/div[2]/div[1]/div/div/div[1]/span[2]/span').text\n",
    "    market_cap = format_price(market_cap_string)\n",
    "    \n",
    "    daily_trading_string = driver.find_element_by_xpath('/html/body/div[4]/div[4]/div[1]/div/div[2]/div[2]/div[1]/div/div/div[2]/span[2]/span').text\n",
    "    daily_trading = format_price(daily_trading_string)\n",
    "    \n",
    "    sentiment_xpath = \"//*[@id='general']/div[1]/div[1]/div[2]/div[3]/div[1]/div[2]/a[1]\"\n",
    "    click_sentiment_button(driver, sentiment_xpath)\n",
    "    good_sentiment = driver.find_element_by_xpath(\"/html/body/div[4]/div[6]/div/div[2]/div[1]/div/div[1]/div[1]/div[1]/div[2]/div[3]/div[2]/div[2]/div[2]/div[1]\").get_attribute(\"style\")\n",
    "    good_sentiment_n = extract_good_sentiment_pct(good_sentiment)\n",
    "    \n",
    "    return ({\"price ($US)\":price,\n",
    "             \"price_evolution\":{\"1h\":hourly_evolution, \n",
    "                                \"24h\":daily_evolution,\n",
    "                                \"7d\": weekly_evolution,\n",
    "                                \"14d\": bimonthly_evolution,\n",
    "                                \"1m\": monthly_evolution,\n",
    "                                \"1y\": yearly_evolution},\n",
    "             \"market cap\":market_cap,\n",
    "             \"daily trading volume\":daily_trading,\n",
    "             \"good_sentiment\": good_sentiment_n})\n",
    "    "
   ]
  },
  {
   "cell_type": "code",
   "execution_count": 60,
   "id": "96210e51-7a22-4caa-9bb1-a9d88aab0278",
   "metadata": {},
   "outputs": [
    {
     "data": {
      "text/plain": [
       "{'price ($US)': 185.9,\n",
       " 'price_evolution': {'1h': -0.007,\n",
       "  '24h': 0.029,\n",
       "  '7d': 0.27,\n",
       "  '14d': 1.113,\n",
       "  '1m': 3.447,\n",
       "  '1y': 52.835},\n",
       " 'market cap': 54569328405.0,\n",
       " 'daily trading volume': 5906181784.0,\n",
       " 'good_sentiment': 0.76}"
      ]
     },
     "execution_count": 60,
     "metadata": {},
     "output_type": "execute_result"
    }
   ],
   "source": [
    "coin=\"solana\"\n",
    "retrieve_coingecko_data(coin)"
   ]
  }
 ],
 "metadata": {
  "kernelspec": {
   "display_name": "Python 3",
   "language": "python",
   "name": "python3"
  },
  "language_info": {
   "codemirror_mode": {
    "name": "ipython",
    "version": 3
   },
   "file_extension": ".py",
   "mimetype": "text/x-python",
   "name": "python",
   "nbconvert_exporter": "python",
   "pygments_lexer": "ipython3",
   "version": "3.8.8"
  }
 },
 "nbformat": 4,
 "nbformat_minor": 5
}
