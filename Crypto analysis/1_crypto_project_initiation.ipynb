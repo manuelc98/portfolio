{
 "cells": [
  {
   "cell_type": "markdown",
   "id": "3455f9a7-17d6-48d8-8ce1-fce884cfb265",
   "metadata": {},
   "source": [
    "# Crypto scrap and analysis project"
   ]
  },
  {
   "cell_type": "markdown",
   "id": "1ff19740-9c3d-4d47-b807-8ac46bac23e3",
   "metadata": {},
   "source": [
    "## Aim of the project\n",
    "- As the cryptocurrency environment is expanding very fast, it has become difficult to gather meaningful information in one place about any project.\n",
    "- Input : a crypto token name (available on CoinGecko)\n",
    "- Outputs : \n",
    "    1. Important data about the token \n",
    "        - price\n",
    "        - price evolution for main periods\n",
    "        - market capitalization\n",
    "        - daily trading volume\n",
    "        - sentiment of people\n",
    "    2. News analysis (using NLP)\n",
    "    3. Designed infography gathering relevant information\n",
    "- Long term goal : evolution and comparison of a portfolio (Ethereum, Solana, Elrond, Uniris...) "
   ]
  },
  {
   "cell_type": "markdown",
   "id": "065e8b1e-e782-4b9f-b633-9129a3d8c6e2",
   "metadata": {},
   "source": [
    "## 1. Retrieve CoinGecko's data"
   ]
  },
  {
   "cell_type": "code",
   "execution_count": 27,
   "id": "c750f4aa-acdc-470d-b761-143ccee82cf2",
   "metadata": {},
   "outputs": [],
   "source": [
    "import pandas as pd\n",
    "\n",
    "from datetime import datetime\n",
    "from selenium import webdriver\n",
    "\n",
    "from selenium.webdriver.common.by import By\n",
    "from selenium.webdriver.support.ui import WebDriverWait\n",
    "from selenium.webdriver.support import expected_conditions as ec"
   ]
  },
  {
   "cell_type": "code",
   "execution_count": 57,
   "id": "f313cd2f-2449-4796-8b32-c8e6874eeabb",
   "metadata": {},
   "outputs": [],
   "source": [
    "# Function to extract the % of good sentiment in the sentence scraped\n",
    "# Input : string\n",
    "# Output : int\n",
    "\n",
    "def extract_good_sentiment_pct(sentence):\n",
    "    res = []\n",
    "    for char in sentence:\n",
    "        if char.isdigit():\n",
    "            res.append(char)\n",
    "    n_char = ''\n",
    "    for i in range(len(res)):\n",
    "        n_char += res[i]\n",
    "    n = int(n_char)\n",
    "    return n/100"
   ]
  },
  {
   "cell_type": "code",
   "execution_count": 3,
   "id": "4fef6f3e-6890-47b9-a3b8-5d995e065c52",
   "metadata": {},
   "outputs": [],
   "source": [
    "# Function to clean the price output of coingecko\n",
    "# Input : unformated price (string)\n",
    "# Output : price (int)\n",
    "\n",
    "def format_price(price_string):\n",
    "    price_string = price_string.replace(\"\\u202f\",\"\")\n",
    "    price_string = price_string.replace(\" $US\",\"\")\n",
    "    price_string = price_string.replace(\",\", \".\")\n",
    "    price = float(price_string)\n",
    "    return price"
   ]
  },
  {
   "cell_type": "code",
   "execution_count": 4,
   "id": "132692d7-b9eb-473c-a7fa-446302f436ea",
   "metadata": {},
   "outputs": [],
   "source": [
    "def format_pct(pct_string):\n",
    "    return(round(float(pct_string.replace('%',''))/100,3))"
   ]
  },
  {
   "cell_type": "code",
   "execution_count": 45,
   "id": "e27e5cf7-1244-4338-b169-000714abf3b3",
   "metadata": {},
   "outputs": [],
   "source": [
    "def click_sentiment_button(driver, xpath):\n",
    "    try:\n",
    "        driver.execute_script(\"window.scrollTo(0,2000)\")\n",
    "        wait = WebDriverWait(driver, 5)\n",
    "        system = wait.until(ec.element_to_be_clickable((By.XPATH, xpath)))\n",
    "        system.click()\n",
    "    except:\n",
    "        pass"
   ]
  },
  {
   "cell_type": "code",
   "execution_count": 58,
   "id": "87fc35f8-2e94-41dd-aed2-e562aa4133a0",
   "metadata": {},
   "outputs": [],
   "source": [
    "# Function that returns coin gecko's data about a given coin\n",
    "# Input : full coin name (ex: bitcoin, ethereum...) (string)\n",
    "# Output : Number of favorites (int), current price in $ (float), \n",
    "\n",
    "def retrieve_coingecko_data(coin_name):\n",
    "    \n",
    "    driver = webdriver.Chrome('/Users/manuel/Documents/GitHub/chromedriver')\n",
    "    driver.get(f\"https://www.coingecko.com/fr/pi%C3%A8ces/{coin_name}\")\n",
    "    driver.implicitly_wait(10)\n",
    "    \n",
    "    price_string = driver.find_element_by_xpath('/html/body/div[4]/div[4]/div[1]/div/div[1]/div[4]/div/div[1]/span[1]/span').text\n",
    "    price = format_price(price_string)\n",
    "    \n",
    "    hourly_evolution_string = driver.find_element_by_xpath('/html/body/div[4]/div[6]/div/div[2]/div[1]/div/div[1]/div[1]/div[1]/div[2]/div[2]/div[2]/div[1]/span').text\n",
    "    hourly_evolution = format_pct(hourly_evolution_string)\n",
    "    \n",
    "    daily_evolution_string = driver.find_element_by_xpath('/html/body/div[4]/div[6]/div/div[2]/div[1]/div/div[1]/div[1]/div[1]/div[2]/div[2]/div[2]/div[2]/span').text\n",
    "    daily_evolution = format_pct(daily_evolution_string)\n",
    "    \n",
    "    weekly_evolution_string = driver.find_element_by_xpath('/html/body/div[4]/div[6]/div/div[2]/div[1]/div/div[1]/div[1]/div[1]/div[2]/div[2]/div[2]/div[3]/span').text\n",
    "    weekly_evolution = format_pct(weekly_evolution_string)\n",
    "    \n",
    "    bimonthly_evolution_string = driver.find_element_by_xpath('/html/body/div[4]/div[6]/div/div[2]/div[1]/div/div[1]/div[1]/div[1]/div[2]/div[2]/div[2]/div[4]/span').text\n",
    "    bimonthly_evolution = format_pct(bimonthly_evolution_string)\n",
    "    \n",
    "    monthly_evolution_string = driver.find_element_by_xpath('/html/body/div[4]/div[6]/div/div[2]/div[1]/div/div[1]/div[1]/div[1]/div[2]/div[2]/div[2]/div[5]/span').text\n",
    "    monthly_evolution = format_pct(monthly_evolution_string)\n",
    "    \n",
    "    yearly_evolution_string = driver.find_element_by_xpath('/html/body/div[4]/div[6]/div/div[2]/div[1]/div/div[1]/div[1]/div[1]/div[2]/div[2]/div[2]/div[6]/span').text\n",
    "    yearly_evolution = format_pct(yearly_evolution_string)\n",
    "    \n",
    "    market_cap_string = driver.find_element_by_xpath('/html/body/div[4]/div[4]/div[1]/div/div[2]/div[2]/div[1]/div/div/div[1]/span[2]/span').text\n",
    "    market_cap = format_price(market_cap_string)\n",
    "    \n",
    "    daily_trading_string = driver.find_element_by_xpath('/html/body/div[4]/div[4]/div[1]/div/div[2]/div[2]/div[1]/div/div/div[2]/span[2]/span').text\n",
    "    daily_trading = format_price(daily_trading_string)\n",
    "    \n",
    "    sentiment_xpath = \"//*[@id='general']/div[1]/div[1]/div[2]/div[3]/div[1]/div[2]/a[1]\"\n",
    "    click_sentiment_button(driver, sentiment_xpath)\n",
    "    good_sentiment = driver.find_element_by_xpath(\"/html/body/div[4]/div[6]/div/div[2]/div[1]/div/div[1]/div[1]/div[1]/div[2]/div[3]/div[2]/div[2]/div[2]/div[1]\").get_attribute(\"style\")\n",
    "    good_sentiment_n = extract_good_sentiment_pct(good_sentiment)\n",
    "    \n",
    "    return ({\"price ($US)\":price,\n",
    "             \"price_evolution\":{\"1h\":hourly_evolution, \n",
    "                                \"24h\":daily_evolution,\n",
    "                                \"7d\": weekly_evolution,\n",
    "                                \"14d\": bimonthly_evolution,\n",
    "                                \"1m\": monthly_evolution,\n",
    "                                \"1y\": yearly_evolution},\n",
    "             \"market cap\":market_cap,\n",
    "             \"daily trading volume\":daily_trading,\n",
    "             \"good_sentiment\": good_sentiment_n})\n",
    "    "
   ]
  },
  {
   "cell_type": "code",
   "execution_count": 60,
   "id": "96210e51-7a22-4caa-9bb1-a9d88aab0278",
   "metadata": {},
   "outputs": [
    {
     "data": {
      "text/plain": [
       "{'price ($US)': 185.9,\n",
       " 'price_evolution': {'1h': -0.007,\n",
       "  '24h': 0.029,\n",
       "  '7d': 0.27,\n",
       "  '14d': 1.113,\n",
       "  '1m': 3.447,\n",
       "  '1y': 52.835},\n",
       " 'market cap': 54569328405.0,\n",
       " 'daily trading volume': 5906181784.0,\n",
       " 'good_sentiment': 0.76}"
      ]
     },
     "execution_count": 60,
     "metadata": {},
     "output_type": "execute_result"
    }
   ],
   "source": [
    "coin=\"solana\"\n",
    "retrieve_coingecko_data(coin)"
   ]
  },
  {
   "cell_type": "markdown",
   "id": "d14790b7-0876-459d-99b9-3c4c2eb1621c",
   "metadata": {},
   "source": [
    "## News sentiment analysis"
   ]
  },
  {
   "cell_type": "code",
   "execution_count": 74,
   "id": "116a96f9-d2fd-4c08-a5d4-e4e094b75437",
   "metadata": {},
   "outputs": [],
   "source": [
    "def scrap_news(coin_name):\n",
    "    driver = webdriver.Chrome('/Users/manuel/Documents/GitHub/chromedriver')\n",
    "    driver.get(f\"https://www.coingecko.com/fr/pi%C3%A8ces/{coin_name}/news\")\n",
    "    driver.implicitly_wait(10)\n",
    "\n",
    "    titles = driver.find_elements_by_class_name(\"tw-text-xl\")\n",
    "\n",
    "    titles_text = []\n",
    "    for title in titles:\n",
    "        titles_text.append(title.text)\n",
    "    titles_text = titles_text[4:]\n",
    "\n",
    "    descriptions = driver.find_elements_by_class_name(\"post-body\")\n",
    "    desc_text = []\n",
    "    for desc in descriptions:\n",
    "        desc_text.append(desc.text)\n",
    "    \n",
    "    return (titles_text, desc_text)"
   ]
  },
  {
   "cell_type": "code",
   "execution_count": 76,
   "id": "ba726a72-9d3b-4a0f-9ca5-86bee94e7897",
   "metadata": {},
   "outputs": [
    {
     "data": {
      "text/plain": [
       "['Investissements institutionnels dans la crypto : les experts pèsent le pour et le contre des implications',\n",
       " 'Les oracles de Chainlink partent à l’assaut d’Optimism sur Ethereum',\n",
       " 'Explosion des utilisateurs du wallet Ethereum Metamask : la barre des 10 millions franchie',\n",
       " 'Ils veulent la peau des frais sur Ethereum – Eden Network lève 17 millions de $ avec Multicoin Capital',\n",
       " 'Bitcoin, ETH et Elrond (eGLD), futures monnaies légales au Panama ?',\n",
       " 'Standard Chartered : le Bitcoin à 100 000 dollars « fin 2021 ou début 2022 », l’Ether « structurellement » valorisable entre 26 000 et 35 000 dollars',\n",
       " 'Frais exorbitants sur le réseau Ethereum : Les coupables découverts',\n",
       " 'Le marché crypto crashe brusquement après un élan haussier ; Bitcoin chute à 42 800 $',\n",
       " 'Ethereum : la récente flambée de l’ETH a entraîné une hausse du prix des GPU',\n",
       " 'Contrat Ethereum 2.0 : près de 30 milliards de dollars vérouillés']"
      ]
     },
     "execution_count": 76,
     "metadata": {},
     "output_type": "execute_result"
    }
   ],
   "source": [
    "news = scrap_news(\"ethereum\")\n",
    "news[0]"
   ]
  },
  {
   "cell_type": "code",
   "execution_count": 77,
   "id": "d392dde1-7c8d-4032-8b6e-252735a83448",
   "metadata": {},
   "outputs": [
    {
     "data": {
      "text/plain": [
       "['Le secteur de la crypto a explosé au cours de la dernière année. Du Bitcoin atteignant son plus haut niveau historique en passant par le boom des NFT et les nouvelles innovations de la DeFi, l’industrie n’a jamais été aussi dynamisée. Au milieu de toute cette activité, de nouveaux investisseurs o... (En savoir plus...)',\n",
       " \"Après avoir conquis diverses blockchains, Chainlink s'attaque désormais à la seconde couche d'Optimism. La priorité aux coûts ? L’article Les oracles de Chainlink partent à l’assaut d’Optimism sur Ethereum est apparu en premier sur Journal du Coin. (En savoir plus...)\",\n",
       " \"Metamask a fait du chemin depuis 2016. De nombreux facteurs lui ont permis d'atteindre 10 millions d'utilisateurs actifs par mois. L’article Explosion des utilisateurs du wallet Ethereum Metamask : la barre des 10 millions franchie est apparu en premier sur Journal du Coin. (En savoir plus...)\",\n",
       " 'Eden Network lève 17 millions de dollars afin de rendre la traitement des transactions sur le réseau Ethereum plus équitable et moins onéreux. L’article Ils veulent la peau des frais sur Ethereum – Eden Network lève 17 millions de $ avec Multicoin Capital est apparu en premier sur Journal du Coin. (En savoir plus...)',\n",
       " \"Un projet de loi au Panama souhaite favoriser l'utilisation des cryptos à travers le pays. 5 actifs sont proposés dont Bitcoin, ETH et eGLD L’article Bitcoin, ETH et Elrond (eGLD), futures monnaies légales au Panama ? est apparu en premier sur Journal du Coin. (En savoir plus...)\",\n",
       " 'Les experts de la banque britannique s’attendent à une flambée du BTC au cours des prochains mois. Ils estiment que l’Ether est, de son côté, « structurellement » sous-valorisé. 100 000 dollars pour le Bitcoin, jusqu’à 35 000 dollars pour Ethereum Dans une note envoyée mardi à ses clients, et don... (En savoir plus...)',\n",
       " \"Ethereum présente de nouveau des frais hallucinants. Les NFT se montrent plus énergivores que prévu. Le réseau s'en sortira-t-il ? L’article Frais exorbitants sur le réseau Ethereum : Les coupables découverts est apparu en premier sur Journal du Coin. (En savoir plus...)\",\n",
       " 'Les autres cryptomonnaies ont enregistré des pertes encore plus importantes, la plupart perdant environ 30 % de leur valeur ce 7 septembre Le seul altcoin du Top 10 qui n’a pas été touché par ce crash et continue à monter en flèche est Solana. Bitcoin perd 19 % de sa valeur Bitcoin (BTC) a perdu ... (En savoir plus...)',\n",
       " 'Selon un rapport de MyDrivers, les cartes graphiques Nvidia utilisées pour le minage de cryptomonnaies sont en rupture de stock en Chine et les prix s’envolent. Il s’agit d’une mauvaise nouvelle tant pour les joueurs qui comptent sur ces cartes pour jouer en HD que pour les mineurs crypto. La hau... (En savoir plus...)',\n",
       " 'Le contrat Ethereum 2.0, qui permettra d’assurer le passage de la blockchain vers un protocole de validation par preuve d’enjeu, détient désormais près de 7,5 millions d’Ethers, soit un peu plus de 28 milliards de dollars. Ces coins représentent 6,38% de l’offre d’ETHs en circulation. Le contrat ... (En savoir plus...)']"
      ]
     },
     "execution_count": 77,
     "metadata": {},
     "output_type": "execute_result"
    }
   ],
   "source": [
    "news[1]"
   ]
  },
  {
   "cell_type": "code",
   "execution_count": null,
   "id": "14c07a3a-caef-47cd-9d3c-361af3ba4bb3",
   "metadata": {},
   "outputs": [],
   "source": []
  }
 ],
 "metadata": {
  "kernelspec": {
   "display_name": "Python 3",
   "language": "python",
   "name": "python3"
  },
  "language_info": {
   "codemirror_mode": {
    "name": "ipython",
    "version": 3
   },
   "file_extension": ".py",
   "mimetype": "text/x-python",
   "name": "python",
   "nbconvert_exporter": "python",
   "pygments_lexer": "ipython3",
   "version": "3.8.8"
  }
 },
 "nbformat": 4,
 "nbformat_minor": 5
}
