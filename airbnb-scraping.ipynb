{
 "cells": [
  {
   "cell_type": "markdown",
   "id": "c8cec092",
   "metadata": {},
   "source": [
    "# Airbnb Web Scraping"
   ]
  },
  {
   "cell_type": "code",
   "execution_count": 1,
   "id": "d9039789",
   "metadata": {},
   "outputs": [],
   "source": [
    "import requests\n",
    "from bs4 import BeautifulSoup\n",
    "from selenium import webdriver\n",
    "from selenium.webdriver.chrome.options import Options\n",
    "from selenium.webdriver import ActionChains\n",
    "\n",
    "from selenium.webdriver.support.ui import WebDriverWait\n",
    "from selenium.webdriver.support import expected_conditions as EC\n",
    "from selenium.webdriver.common.by import By\n",
    "\n",
    "import json\n",
    "import time\n",
    "\n",
    "import os\n",
    "\n",
    "import pandas as pd\n",
    "\n",
    "from multiprocessing import Pool"
   ]
  },
  {
   "cell_type": "code",
   "execution_count": 2,
   "id": "4e9d0e1d",
   "metadata": {},
   "outputs": [],
   "source": [
    "link = \"https://www.airbnb.fr/s/Paris/homes?place_id=ChIJD7fiBh9u5kcRYJSMaMOCCwQ&refinement_paths%5B%5D=%2Fhomes&search_type=filter_change&tab_id=home_tab&query=Paris&flexible_trip_lengths%5B%5D=weekend_trip&date_picker_type=calendar&checkin=2022-04-07&checkout=2022-04-10&adults=2&source=structured_search_input_header\""
   ]
  },
  {
   "cell_type": "markdown",
   "id": "86e7c01d",
   "metadata": {},
   "source": [
    "## 1. Scraping search page"
   ]
  },
  {
   "cell_type": "code",
   "execution_count": 3,
   "id": "c7504bbc",
   "metadata": {},
   "outputs": [],
   "source": [
    "def scrape_page(page_url):\n",
    "    \"\"\"Extracts HTML from a webpage\"\"\"\n",
    "    \n",
    "    answer = requests.get(page_url)\n",
    "    content = answer.content\n",
    "    soup = BeautifulSoup(content, features='html.parser')\n",
    "    \n",
    "    return soup"
   ]
  },
  {
   "cell_type": "code",
   "execution_count": 4,
   "id": "f1a6668a",
   "metadata": {},
   "outputs": [],
   "source": [
    "def extract_listing(page_url):\n",
    "    \"\"\"Extracts listings from an Airbnb search page\"\"\"\n",
    "    \n",
    "    page_soup = scrape_page(page_url)\n",
    "    listings = page_soup.findAll(\"div\", {\"class\": \"_gig1e7\"})\n",
    "\n",
    "    return listings"
   ]
  },
  {
   "cell_type": "code",
   "execution_count": 24,
   "id": "e5b3caea",
   "metadata": {},
   "outputs": [],
   "source": [
    "FEATURE_DICT = {\n",
    "    'name':[\"div\", {'class':'mj1p6c8 dir dir-ltr'}],\n",
    "    'main_name': [\"div\", {'class':'c1bx80b8 dir dir-ltr'}],\n",
    "    'price': [\"div\", {'class':'p1qe1cgb dir dir-ltr'}],\n",
    "    'label': [\"div\", {'class':'s1sphtog dir dir-ltr'}],\n",
    "    'rating': [\"div\", {'class':'sglmc5a dir dir-ltr'}]\n",
    "}\n",
    "attributes = [\"span\", {'class':'mp2hv9t dir dir-ltr'}]"
   ]
  },
  {
   "cell_type": "code",
   "execution_count": 25,
   "id": "e32c66bd",
   "metadata": {},
   "outputs": [
    {
     "data": {
      "text/html": [
       "<div>\n",
       "<style scoped>\n",
       "    .dataframe tbody tr th:only-of-type {\n",
       "        vertical-align: middle;\n",
       "    }\n",
       "\n",
       "    .dataframe tbody tr th {\n",
       "        vertical-align: top;\n",
       "    }\n",
       "\n",
       "    .dataframe thead th {\n",
       "        text-align: right;\n",
       "    }\n",
       "</style>\n",
       "<table border=\"1\" class=\"dataframe\">\n",
       "  <thead>\n",
       "    <tr style=\"text-align: right;\">\n",
       "      <th></th>\n",
       "      <th>name</th>\n",
       "      <th>main_name</th>\n",
       "      <th>price</th>\n",
       "      <th>label</th>\n",
       "      <th>rating</th>\n",
       "    </tr>\n",
       "  </thead>\n",
       "  <tbody>\n",
       "    <tr>\n",
       "      <th>0</th>\n",
       "      <td>div</td>\n",
       "      <td>div</td>\n",
       "      <td>div</td>\n",
       "      <td>div</td>\n",
       "      <td>div</td>\n",
       "    </tr>\n",
       "    <tr>\n",
       "      <th>1</th>\n",
       "      <td>{'class': 'mj1p6c8 dir dir-ltr'}</td>\n",
       "      <td>{'class': 'c1bx80b8 dir dir-ltr'}</td>\n",
       "      <td>{'class': 'p1qe1cgb dir dir-ltr'}</td>\n",
       "      <td>{'class': 's1sphtog dir dir-ltr'}</td>\n",
       "      <td>{'class': 'sglmc5a dir dir-ltr'}</td>\n",
       "    </tr>\n",
       "  </tbody>\n",
       "</table>\n",
       "</div>"
      ],
      "text/plain": [
       "                               name                          main_name  \\\n",
       "0                               div                                div   \n",
       "1  {'class': 'mj1p6c8 dir dir-ltr'}  {'class': 'c1bx80b8 dir dir-ltr'}   \n",
       "\n",
       "                               price                              label  \\\n",
       "0                                div                                div   \n",
       "1  {'class': 'p1qe1cgb dir dir-ltr'}  {'class': 's1sphtog dir dir-ltr'}   \n",
       "\n",
       "                             rating  \n",
       "0                               div  \n",
       "1  {'class': 'sglmc5a dir dir-ltr'}  "
      ]
     },
     "execution_count": 25,
     "metadata": {},
     "output_type": "execute_result"
    }
   ],
   "source": [
    "test = pd.DataFrame(FEATURE_DICT)\n",
    "test"
   ]
  },
  {
   "cell_type": "code",
   "execution_count": 26,
   "id": "7c44080d",
   "metadata": {},
   "outputs": [
    {
     "data": {
      "text/html": [
       "<div>\n",
       "<style scoped>\n",
       "    .dataframe tbody tr th:only-of-type {\n",
       "        vertical-align: middle;\n",
       "    }\n",
       "\n",
       "    .dataframe tbody tr th {\n",
       "        vertical-align: top;\n",
       "    }\n",
       "\n",
       "    .dataframe thead th {\n",
       "        text-align: right;\n",
       "    }\n",
       "</style>\n",
       "<table border=\"1\" class=\"dataframe\">\n",
       "  <thead>\n",
       "    <tr style=\"text-align: right;\">\n",
       "      <th></th>\n",
       "      <th>0</th>\n",
       "      <th>attributes</th>\n",
       "      <th>name</th>\n",
       "      <th>main_name</th>\n",
       "      <th>price</th>\n",
       "      <th>label</th>\n",
       "      <th>rating</th>\n",
       "    </tr>\n",
       "  </thead>\n",
       "  <tbody>\n",
       "    <tr>\n",
       "      <th>0</th>\n",
       "      <td>name</td>\n",
       "      <td>NaN</td>\n",
       "      <td>NaN</td>\n",
       "      <td>NaN</td>\n",
       "      <td>NaN</td>\n",
       "      <td>NaN</td>\n",
       "      <td>NaN</td>\n",
       "    </tr>\n",
       "    <tr>\n",
       "      <th>1</th>\n",
       "      <td>main_name</td>\n",
       "      <td>NaN</td>\n",
       "      <td>NaN</td>\n",
       "      <td>NaN</td>\n",
       "      <td>NaN</td>\n",
       "      <td>NaN</td>\n",
       "      <td>NaN</td>\n",
       "    </tr>\n",
       "    <tr>\n",
       "      <th>2</th>\n",
       "      <td>price</td>\n",
       "      <td>NaN</td>\n",
       "      <td>NaN</td>\n",
       "      <td>NaN</td>\n",
       "      <td>NaN</td>\n",
       "      <td>NaN</td>\n",
       "      <td>NaN</td>\n",
       "    </tr>\n",
       "    <tr>\n",
       "      <th>3</th>\n",
       "      <td>label</td>\n",
       "      <td>NaN</td>\n",
       "      <td>NaN</td>\n",
       "      <td>NaN</td>\n",
       "      <td>NaN</td>\n",
       "      <td>NaN</td>\n",
       "      <td>NaN</td>\n",
       "    </tr>\n",
       "    <tr>\n",
       "      <th>4</th>\n",
       "      <td>rating</td>\n",
       "      <td>NaN</td>\n",
       "      <td>NaN</td>\n",
       "      <td>NaN</td>\n",
       "      <td>NaN</td>\n",
       "      <td>NaN</td>\n",
       "      <td>NaN</td>\n",
       "    </tr>\n",
       "    <tr>\n",
       "      <th>...</th>\n",
       "      <td>...</td>\n",
       "      <td>...</td>\n",
       "      <td>...</td>\n",
       "      <td>...</td>\n",
       "      <td>...</td>\n",
       "      <td>...</td>\n",
       "      <td>...</td>\n",
       "    </tr>\n",
       "    <tr>\n",
       "      <th>36</th>\n",
       "      <td>NaN</td>\n",
       "      <td>/ nuit</td>\n",
       "      <td>Logement entier : appartement · Particulier · ...</td>\n",
       "      <td>Logement entier : appartement · Particulier · ...</td>\n",
       "      <td>Logement entier : appartement · Particulier · ...</td>\n",
       "      <td>Logement entier : appartement · Particulier · ...</td>\n",
       "      <td>Logement entier : appartement · Particulier · ...</td>\n",
       "    </tr>\n",
       "    <tr>\n",
       "      <th>37</th>\n",
       "      <td>NaN</td>\n",
       "      <td>135€ par nuit</td>\n",
       "      <td>Logement entier : appartement · Particulier · ...</td>\n",
       "      <td>Logement entier : appartement · Particulier · ...</td>\n",
       "      <td>Logement entier : appartement · Particulier · ...</td>\n",
       "      <td>Logement entier : appartement · Particulier · ...</td>\n",
       "      <td>Logement entier : appartement · Particulier · ...</td>\n",
       "    </tr>\n",
       "    <tr>\n",
       "      <th>38</th>\n",
       "      <td>NaN</td>\n",
       "      <td>405€ au total</td>\n",
       "      <td>Logement entier : appartement · Particulier · ...</td>\n",
       "      <td>Logement entier : appartement · Particulier · ...</td>\n",
       "      <td>Logement entier : appartement · Particulier · ...</td>\n",
       "      <td>Logement entier : appartement · Particulier · ...</td>\n",
       "      <td>Logement entier : appartement · Particulier · ...</td>\n",
       "    </tr>\n",
       "    <tr>\n",
       "      <th>39</th>\n",
       "      <td>NaN</td>\n",
       "      <td>405€ au total</td>\n",
       "      <td>Logement entier : appartement · Particulier · ...</td>\n",
       "      <td>Logement entier : appartement · Particulier · ...</td>\n",
       "      <td>Logement entier : appartement · Particulier · ...</td>\n",
       "      <td>Logement entier : appartement · Particulier · ...</td>\n",
       "      <td>Logement entier : appartement · Particulier · ...</td>\n",
       "    </tr>\n",
       "    <tr>\n",
       "      <th>40</th>\n",
       "      <td>NaN</td>\n",
       "      <td>Afficher le décompte du prix</td>\n",
       "      <td>Logement entier : appartement · Particulier · ...</td>\n",
       "      <td>Logement entier : appartement · Particulier · ...</td>\n",
       "      <td>Logement entier : appartement · Particulier · ...</td>\n",
       "      <td>Logement entier : appartement · Particulier · ...</td>\n",
       "      <td>Logement entier : appartement · Particulier · ...</td>\n",
       "    </tr>\n",
       "  </tbody>\n",
       "</table>\n",
       "<p>4176 rows × 7 columns</p>\n",
       "</div>"
      ],
      "text/plain": [
       "            0                    attributes  \\\n",
       "0        name                           NaN   \n",
       "1   main_name                           NaN   \n",
       "2       price                           NaN   \n",
       "3       label                           NaN   \n",
       "4      rating                           NaN   \n",
       "..        ...                           ...   \n",
       "36        NaN                        / nuit   \n",
       "37        NaN                 135€ par nuit   \n",
       "38        NaN                 405€ au total   \n",
       "39        NaN                 405€ au total   \n",
       "40        NaN  Afficher le décompte du prix   \n",
       "\n",
       "                                                 name  \\\n",
       "0                                                 NaN   \n",
       "1                                                 NaN   \n",
       "2                                                 NaN   \n",
       "3                                                 NaN   \n",
       "4                                                 NaN   \n",
       "..                                                ...   \n",
       "36  Logement entier : appartement · Particulier · ...   \n",
       "37  Logement entier : appartement · Particulier · ...   \n",
       "38  Logement entier : appartement · Particulier · ...   \n",
       "39  Logement entier : appartement · Particulier · ...   \n",
       "40  Logement entier : appartement · Particulier · ...   \n",
       "\n",
       "                                            main_name  \\\n",
       "0                                                 NaN   \n",
       "1                                                 NaN   \n",
       "2                                                 NaN   \n",
       "3                                                 NaN   \n",
       "4                                                 NaN   \n",
       "..                                                ...   \n",
       "36  Logement entier : appartement · Particulier · ...   \n",
       "37  Logement entier : appartement · Particulier · ...   \n",
       "38  Logement entier : appartement · Particulier · ...   \n",
       "39  Logement entier : appartement · Particulier · ...   \n",
       "40  Logement entier : appartement · Particulier · ...   \n",
       "\n",
       "                                                price  \\\n",
       "0                                                 NaN   \n",
       "1                                                 NaN   \n",
       "2                                                 NaN   \n",
       "3                                                 NaN   \n",
       "4                                                 NaN   \n",
       "..                                                ...   \n",
       "36  Logement entier : appartement · Particulier · ...   \n",
       "37  Logement entier : appartement · Particulier · ...   \n",
       "38  Logement entier : appartement · Particulier · ...   \n",
       "39  Logement entier : appartement · Particulier · ...   \n",
       "40  Logement entier : appartement · Particulier · ...   \n",
       "\n",
       "                                                label  \\\n",
       "0                                                 NaN   \n",
       "1                                                 NaN   \n",
       "2                                                 NaN   \n",
       "3                                                 NaN   \n",
       "4                                                 NaN   \n",
       "..                                                ...   \n",
       "36  Logement entier : appartement · Particulier · ...   \n",
       "37  Logement entier : appartement · Particulier · ...   \n",
       "38  Logement entier : appartement · Particulier · ...   \n",
       "39  Logement entier : appartement · Particulier · ...   \n",
       "40  Logement entier : appartement · Particulier · ...   \n",
       "\n",
       "                                               rating  \n",
       "0                                                 NaN  \n",
       "1                                                 NaN  \n",
       "2                                                 NaN  \n",
       "3                                                 NaN  \n",
       "4                                                 NaN  \n",
       "..                                                ...  \n",
       "36  Logement entier : appartement · Particulier · ...  \n",
       "37  Logement entier : appartement · Particulier · ...  \n",
       "38  Logement entier : appartement · Particulier · ...  \n",
       "39  Logement entier : appartement · Particulier · ...  \n",
       "40  Logement entier : appartement · Particulier · ...  \n",
       "\n",
       "[4176 rows x 7 columns]"
      ]
     },
     "execution_count": 26,
     "metadata": {},
     "output_type": "execute_result"
    }
   ],
   "source": [
    "listing_soups = extract_listing(link)\n",
    "columns = ['name',\n",
    "          'main_name',\n",
    "          'price',\n",
    "          'label',\n",
    "          'rating',\n",
    "          'attributes']\n",
    "df = pd.DataFrame(columns)\n",
    "for element_soup in listing_soups:\n",
    "    result = {}\n",
    "    for feature in FEATURE_DICT:\n",
    "        try:\n",
    "            result[feature] = element_soup.findAll(FEATURE_DICT[feature][0])[0].text\n",
    "        except:\n",
    "            result['name'] = None\n",
    "        try:\n",
    "            result['attributes'] = [element_soup.findAll(attributes[0])[i].text for i in range(len(element_soup.findAll(attributes[0])))]\n",
    "        except:\n",
    "            result['attributes'] = None\n",
    "        df_temp = pd.DataFrame(result)\n",
    "        df = pd.concat([df, df_temp])\n",
    "\n",
    "df"
   ]
  },
  {
   "cell_type": "code",
   "execution_count": 10,
   "id": "617cbe95",
   "metadata": {},
   "outputs": [
    {
     "data": {
      "text/plain": [
       "[<div class=\"mj1p6c8 dir dir-ltr\">Logement entier dans une résidence de tourisme<span aria-hidden=\"true\"> · </span>Professionnel<span aria-hidden=\"true\"> · </span>13e arrondissement</div>,\n",
       " <div class=\"mj1p6c8 dir dir-ltr\">Appartement entier<span aria-hidden=\"true\"> · </span>Professionnel<span aria-hidden=\"true\"> · </span>20e arrondissement</div>,\n",
       " <div class=\"mj1p6c8 dir dir-ltr\">Logement entier : appartement<span aria-hidden=\"true\"> · </span>Particulier<span aria-hidden=\"true\"> · </span>14e arrondissement</div>,\n",
       " <div class=\"mj1p6c8 dir dir-ltr\">Logement entier : appartement en résidence<span aria-hidden=\"true\"> · </span>Professionnel<span aria-hidden=\"true\"> · </span>Asnières-sur-Seine</div>,\n",
       " <div class=\"mj1p6c8 dir dir-ltr\">Chambre privée<span aria-hidden=\"true\"> · </span>Professionnel<span aria-hidden=\"true\"> · </span>16e arrondissement</div>,\n",
       " <div class=\"mj1p6c8 dir dir-ltr\">Logement entier : appartement<span aria-hidden=\"true\"> · </span>Professionnel<span aria-hidden=\"true\"> · </span>Commerce - Dupleix</div>,\n",
       " <div class=\"mj1p6c8 dir dir-ltr\">Chambre privée<span aria-hidden=\"true\"> · </span>Particulier<span aria-hidden=\"true\"> · </span>16e arrondissement</div>,\n",
       " <div class=\"mj1p6c8 dir dir-ltr\">Chambre privée<span aria-hidden=\"true\"> · </span>Particulier<span aria-hidden=\"true\"> · </span>9e arrondissement</div>,\n",
       " <div class=\"mj1p6c8 dir dir-ltr\">Logement entier : appartement<span aria-hidden=\"true\"> · </span>Particulier<span aria-hidden=\"true\"> · </span>9e arrondissement</div>,\n",
       " <div class=\"mj1p6c8 dir dir-ltr\">Logement entier dans une résidence de tourisme<span aria-hidden=\"true\"> · </span>Professionnel<span aria-hidden=\"true\"> · </span>Asnières-sur-Seine</div>,\n",
       " <div class=\"mj1p6c8 dir dir-ltr\">Logement entier : appartement en résidence<span aria-hidden=\"true\"> · </span>Particulier<span aria-hidden=\"true\"> · </span>16e arrondissement</div>,\n",
       " <div class=\"mj1p6c8 dir dir-ltr\">Logement entier : appartement<span aria-hidden=\"true\"> · </span>Particulier<span aria-hidden=\"true\"> · </span>Montmartre</div>,\n",
       " <div class=\"mj1p6c8 dir dir-ltr\">Logement entier : appartement<span aria-hidden=\"true\"> · </span>Professionnel<span aria-hidden=\"true\"> · </span>19e arrondissement</div>,\n",
       " <div class=\"mj1p6c8 dir dir-ltr\">Logement entier : appartement<span aria-hidden=\"true\"> · </span>Particulier<span aria-hidden=\"true\"> · </span>Tour Eiffel - Champ de Mars</div>,\n",
       " <div class=\"mj1p6c8 dir dir-ltr\">Logement entier : appartement<span aria-hidden=\"true\"> · </span>Particulier<span aria-hidden=\"true\"> · </span>Nation</div>,\n",
       " <div class=\"mj1p6c8 dir dir-ltr\">Chambre dans un boutique-hôtel<span aria-hidden=\"true\"> · </span>Professionnel<span aria-hidden=\"true\"> · </span>9e arrondissement</div>,\n",
       " <div class=\"mj1p6c8 dir dir-ltr\">Logement entier : appartement<span aria-hidden=\"true\"> · </span>Professionnel<span aria-hidden=\"true\"> · </span>Courbevoie</div>,\n",
       " <div class=\"mj1p6c8 dir dir-ltr\">Logement entier : appartement<span aria-hidden=\"true\"> · </span>Particulier<span aria-hidden=\"true\"> · </span>Paris</div>,\n",
       " <div class=\"mj1p6c8 dir dir-ltr\">Logement entier : appartement<span aria-hidden=\"true\"> · </span>Particulier<span aria-hidden=\"true\"> · </span>Nation</div>,\n",
       " <div class=\"mj1p6c8 dir dir-ltr\">Logement entier : appartement<span aria-hidden=\"true\"> · </span>Particulier<span aria-hidden=\"true\"> · </span>13e arrondissement</div>]"
      ]
     },
     "execution_count": 10,
     "metadata": {},
     "output_type": "execute_result"
    }
   ],
   "source": [
    "soup = scrape_page(link)\n",
    "name = soup.findAll(\"div\", {'class':'mj1p6c8 dir dir-ltr'})\n",
    "name"
   ]
  },
  {
   "cell_type": "code",
   "execution_count": 6,
   "id": "76fc3637",
   "metadata": {},
   "outputs": [
    {
     "data": {
      "text/plain": [
       "'Logement entier dans une résidence de tourisme · Professionnel · 13e arrondissement'"
      ]
     },
     "execution_count": 6,
     "metadata": {},
     "output_type": "execute_result"
    }
   ],
   "source": [
    "name[0].text"
   ]
  },
  {
   "cell_type": "code",
   "execution_count": null,
   "id": "11ccae31",
   "metadata": {},
   "outputs": [],
   "source": [
    "RULES_SEARCH_PAGE = {\n",
    "    'url': {'tag': 'a', 'get': 'href'},\n",
    "    'name': {'tag': 'div', 'class': '_hxt6u1e', 'get': 'aria-label'},\n",
    "    'name_alt': {'tag': 'a', 'get': 'aria-label'},\n",
    "    'header': {'tag': 'div', 'class': '_b14dlit'},\n",
    "    'rooms': {'tag': 'div', 'class': '_kqh46o'},\n",
    "    'facilities': {'tag': 'div', 'class': '_kqh46o', 'order': 1},\n",
    "    'badge': {'tag': 'div', 'class': '_17bkx6k'},\n",
    "    'rating_n_reviews': {'tag': 'span', 'class': '_18khxk1'},\n",
    "    'price': {'tag': 'span', 'class': '_1p7iugi'},\n",
    "    'price_alt': {'tag': 'span', 'class': '_olc9rf0'},\n",
    "    'superhost': {'tag': 'div', 'class': '_ufoy4t'},\n",
    "}"
   ]
  },
  {
   "cell_type": "code",
   "execution_count": 36,
   "id": "5ea39e34",
   "metadata": {},
   "outputs": [
    {
     "data": {
      "text/plain": [
       "0    [2 voyageurs, Studio, 1 lit, 1 salle de bain, ...\n",
       "Name: attributes, dtype: object"
      ]
     },
     "execution_count": 36,
     "metadata": {},
     "output_type": "execute_result"
    }
   ],
   "source": [
    "\n",
    "listing_soups = extract_listing(link)\n",
    "test = {\n",
    "    'name': listing_soups[0].findAll(\"div\", {'class':'mj1p6c8 dir dir-ltr'})[0].text,\n",
    "    'main_name': listing_soups[0].findAll(\"div\", {'class':'c1bx80b8 dir dir-ltr'})[0].text,\n",
    "    'attributes': [[listing_soups[0].findAll(\"span\", {'class':'mp2hv9t dir dir-ltr'})[i].text for i in range(len(listing_soups[0].findAll(\"span\", {'class':'mp2hv9t dir dir-ltr'})))]],\n",
    "    'price': listing_soups[0].findAll(\"div\", {'class':'p1qe1cgb dir dir-ltr'})[0].text,\n",
    "    'label': listing_soups[0].findAll(\"div\", {'class':'s1sphtog dir dir-ltr'})[0].text,\n",
    "    'rating': listing_soups[0].findAll(\"div\", {'class':'sglmc5a dir dir-ltr'})[0].text\n",
    "}\n",
    "\n",
    "#name in grey\n",
    "\n",
    "#name in black\n",
    "\n",
    "test\n",
    "test = pd.DataFrame(test)\n",
    "test['attributes']\n",
    "\n",
    "    "
   ]
  },
  {
   "cell_type": "code",
   "execution_count": 38,
   "id": "45aa0b82",
   "metadata": {},
   "outputs": [
    {
     "data": {
      "text/plain": [
       "'2 voyageurs'"
      ]
     },
     "execution_count": 38,
     "metadata": {},
     "output_type": "execute_result"
    }
   ],
   "source": [
    "test['attributes'][0][0]"
   ]
  },
  {
   "cell_type": "code",
   "execution_count": 31,
   "id": "12e7f09d",
   "metadata": {},
   "outputs": [
    {
     "data": {
      "text/plain": [
       "\"['a', 'b']\""
      ]
     },
     "execution_count": 31,
     "metadata": {},
     "output_type": "execute_result"
    }
   ],
   "source": [
    "l = ['a', 'b']\n",
    "array()"
   ]
  },
  {
   "cell_type": "code",
   "execution_count": 16,
   "id": "5c6b903b",
   "metadata": {},
   "outputs": [
    {
     "data": {
      "text/plain": [
       "'76€\\xa0/ nuit76€ par nuit227€ au total227€ au totalAfficher le décompte du prix'"
      ]
     },
     "execution_count": 16,
     "metadata": {},
     "output_type": "execute_result"
    }
   ],
   "source": [
    "#Price\n",
    "listing_soups[0].findAll(\"div\", {'class':'p1qe1cgb dir dir-ltr'})[0].text"
   ]
  },
  {
   "cell_type": "code",
   "execution_count": 21,
   "id": "5484a1b5",
   "metadata": {},
   "outputs": [
    {
     "data": {
      "text/plain": [
       "'Perle rare,&nbsp;\\xa0·\\xa0Cet endroit est généralement réservé.'"
      ]
     },
     "execution_count": 21,
     "metadata": {},
     "output_type": "execute_result"
    }
   ],
   "source": [
    "#Label\n",
    "listing_soups[0].findAll(\"div\", {'class':'s1sphtog dir dir-ltr'})[0].text\n"
   ]
  },
  {
   "cell_type": "code",
   "execution_count": 27,
   "id": "d0ba0ea6",
   "metadata": {},
   "outputs": [
    {
     "data": {
      "text/plain": [
       "'4,22\\xa0(1\\u202f022 commentaires)'"
      ]
     },
     "execution_count": 27,
     "metadata": {},
     "output_type": "execute_result"
    }
   ],
   "source": [
    "#Ratings\n",
    "listing_soups[0].findAll(\"div\", {'class':'sglmc5a dir dir-ltr'})[0].text\n"
   ]
  },
  {
   "cell_type": "code",
   "execution_count": null,
   "id": "520f04df",
   "metadata": {},
   "outputs": [],
   "source": []
  }
 ],
 "metadata": {
  "kernelspec": {
   "display_name": "Python 3 (ipykernel)",
   "language": "python",
   "name": "python3"
  },
  "language_info": {
   "codemirror_mode": {
    "name": "ipython",
    "version": 3
   },
   "file_extension": ".py",
   "mimetype": "text/x-python",
   "name": "python",
   "nbconvert_exporter": "python",
   "pygments_lexer": "ipython3",
   "version": "3.9.7"
  }
 },
 "nbformat": 4,
 "nbformat_minor": 5
}
